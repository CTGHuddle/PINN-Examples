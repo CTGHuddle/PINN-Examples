{
 "cells": [
  {
   "cell_type": "code",
   "execution_count": 46,
   "metadata": {},
   "outputs": [
    {
     "name": "stdout",
     "output_type": "stream",
     "text": [
      "dict_keys(['__header__', '__version__', '__globals__', 'x', 't', 'usol'])\n",
      "(100,)\n",
      "(256, 100)\n",
      "(256,)\n"
     ]
    }
   ],
   "source": [
    "import pandas as pd\n",
    "from scipy.io import loadmat\n",
    "\n",
    "name = '../../appendix/Data/burgers_shock'\n",
    "\n",
    "data_dict = loadmat(name+'.mat')\n",
    "print(data_dict.keys())\n",
    "\n",
    "t = data_dict['t'][:,0]\n",
    "u = data_dict['usol']\n",
    "x = data_dict['x'][:,0]\n",
    "\n",
    "print(t.shape)\n",
    "print(u.shape)\n",
    "print(x.shape)\n",
    "\n",
    "df = pd.DataFrame(u,columns=[str(n) for n in t]).set_index(x)\n",
    "df.to_csv(name+'.csv')"
   ]
  }
 ],
 "metadata": {
  "kernelspec": {
   "display_name": "Python 3",
   "language": "python",
   "name": "python3"
  },
  "language_info": {
   "codemirror_mode": {
    "name": "ipython",
    "version": 3
   },
   "file_extension": ".py",
   "mimetype": "text/x-python",
   "name": "python",
   "nbconvert_exporter": "python",
   "pygments_lexer": "ipython3",
   "version": "3.8.3"
  }
 },
 "nbformat": 4,
 "nbformat_minor": 4
}
